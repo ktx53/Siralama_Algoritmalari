{
 "cells": [
  {
   "cell_type": "markdown",
   "id": "ea07439e-5059-4313-83b5-9fa5eed19d84",
   "metadata": {
    "slideshow": {
     "slide_type": "notes"
    },
    "tags": []
   },
   "source": [
    "Sıralama Algoritmaları"
   ]
  },
  {
   "cell_type": "code",
   "execution_count": 29,
   "id": "bcc35ce4-0518-490a-841e-772026e10319",
   "metadata": {},
   "outputs": [],
   "source": [
    "import pandas as pd ; import numpy as np \n",
    "import random"
   ]
  },
  {
   "cell_type": "code",
   "execution_count": 30,
   "id": "9df23a9d-872a-4907-817d-3bf989e4b43f",
   "metadata": {},
   "outputs": [
    {
     "data": {
      "text/plain": [
       "[3, 14, 62, 100, 7, 33, 71, 30, 38, 4, 93, 71, 11, 26, 95, 61, 5, 7, 25, 98]"
      ]
     },
     "execution_count": 30,
     "metadata": {},
     "output_type": "execute_result"
    }
   ],
   "source": [
    "veri=[random.randint(1,100) for _ in range(20)]\n",
    "veri\n"
   ]
  },
  {
   "cell_type": "markdown",
   "id": "33529779-c838-4166-94c6-3e0ead396186",
   "metadata": {},
   "source": [
    "Bubble Sort ( KABARCIK SIRALAMA )"
   ]
  },
  {
   "cell_type": "code",
   "execution_count": 31,
   "id": "df7b9467-0556-4a68-9807-53e51eb5b0ce",
   "metadata": {},
   "outputs": [
    {
     "name": "stdout",
     "output_type": "stream",
     "text": [
      "Bubble Sort: [3, 4, 5, 7, 7, 11, 14, 25, 26, 30, 33, 38, 61, 62, 71, 71, 93, 95, 98, 100]\n"
     ]
    }
   ],
   "source": [
    "def bubble_sort(arr):\n",
    "    n = len(arr)\n",
    "    for i in range(n):\n",
    "        for j in range(0, n-i-1):\n",
    "            if arr[j] > arr[j+1]:\n",
    "                arr[j], arr[j+1] = arr[j+1], arr[j]\n",
    "                \n",
    "bubble_sorted = veri.copy()\n",
    "bubble_sort(bubble_sorted)   \n",
    "print(\"Bubble Sort:\", bubble_sorted)"
   ]
  },
  {
   "cell_type": "markdown",
   "id": "239256db-8e0b-49f2-9557-226cc7848196",
   "metadata": {},
   "source": [
    "Selection Sort ( Seçmeli Sıralama )"
   ]
  },
  {
   "cell_type": "code",
   "execution_count": 32,
   "id": "97d6ace5-6f16-4784-9d77-6554212786d0",
   "metadata": {},
   "outputs": [
    {
     "name": "stdout",
     "output_type": "stream",
     "text": [
      "Selection Sort: [3, 4, 5, 7, 7, 11, 14, 25, 26, 30, 33, 38, 61, 62, 71, 71, 93, 95, 98, 100]\n"
     ]
    }
   ],
   "source": [
    "def selection_sort(arr):\n",
    "    n = len(arr)\n",
    "    for i in range(n):\n",
    "        min_index = i\n",
    "        for j in range(i+1, n):\n",
    "            if arr[j] < arr[min_index]:\n",
    "                min_index = j\n",
    "        arr[i], arr[min_index] = arr[min_index], arr[i]\n",
    "\n",
    "selection_sorted = veri.copy()\n",
    "selection_sort(selection_sorted)   \n",
    "print(\"Selection Sort:\", selection_sorted)        "
   ]
  },
  {
   "cell_type": "markdown",
   "id": "007b2d98-1c26-479b-9786-69de6b3cf76d",
   "metadata": {},
   "source": [
    "Insertion Sort (Eklemeli Sıralama)"
   ]
  },
  {
   "cell_type": "code",
   "execution_count": 33,
   "id": "55ca1b1e-0c0d-4900-b996-42f3a470d2a1",
   "metadata": {},
   "outputs": [
    {
     "name": "stdout",
     "output_type": "stream",
     "text": [
      "İnsertion Sort: [3, 4, 5, 7, 7, 11, 14, 25, 26, 30, 33, 38, 61, 62, 71, 71, 93, 95, 98, 100]\n"
     ]
    }
   ],
   "source": [
    "def insertion_sort(arr):\n",
    "    for i in range(1, len(arr)):\n",
    "        key = arr[i]\n",
    "        j = i - 1\n",
    "        while j >= 0 and key < arr[j]:\n",
    "            arr[j + 1] = arr[j]\n",
    "            j -= 1\n",
    "        arr[j + 1] = key\n",
    "        \n",
    "insertion_sorted = veri.copy()\n",
    "insertion_sort(insertion_sorted)   \n",
    "print(\"İnsertion Sort:\", insertion_sorted)         "
   ]
  },
  {
   "cell_type": "markdown",
   "id": "be8b59ff-1486-4857-9883-2012cac49fbd",
   "metadata": {},
   "source": [
    "Quick Sort ( Hızlı Sıralama )"
   ]
  },
  {
   "cell_type": "code",
   "execution_count": 47,
   "id": "7a634123-fd9a-4be9-905d-925a40041017",
   "metadata": {},
   "outputs": [
    {
     "name": "stdout",
     "output_type": "stream",
     "text": [
      "Quick Sort: [3, 4, 5, 7, 7, 11, 14, 25, 26, 30, 33, 38, 61, 62, 71, 71, 93, 95, 98, 100]\n"
     ]
    }
   ],
   "source": [
    "def quick_sort(arr):\n",
    "    if len(arr) <= 1:\n",
    "        return arr\n",
    "    pivot = arr[len(arr) // 2]\n",
    "    left = [x for x in arr if x < pivot]\n",
    "    middle = [x for x in arr if x == pivot]\n",
    "    right = [x for x in arr if x > pivot]\n",
    "    return quick_sort(left) + middle + quick_sort(right)\n",
    "\n",
    "        \n",
    "quick_sorted = quick_sort(veri.copy()) \n",
    "print(\"Quick Sort:\", quick_sorted)"
   ]
  },
  {
   "cell_type": "markdown",
   "id": "cff392b4-8500-4e49-ab73-600e0c658a1f",
   "metadata": {},
   "source": [
    "Merge Sort ( Birleştirme Sıralaması )"
   ]
  },
  {
   "cell_type": "code",
   "execution_count": 45,
   "id": "60456ff6-982e-44f2-8f71-933258d106c0",
   "metadata": {},
   "outputs": [
    {
     "name": "stdout",
     "output_type": "stream",
     "text": [
      "Merge Sort: [3, 4, 5, 7, 7, 11, 14, 25, 26, 30, 33, 38, 61, 62, 71, 71, 93, 95, 98, 100]\n"
     ]
    }
   ],
   "source": [
    "def merge_sort(arr):\n",
    "    if len(arr) <= 1:\n",
    "        return arr\n",
    "    mid = len(arr) // 2\n",
    "    left = arr[:mid]\n",
    "    right = arr[mid:]\n",
    "\n",
    "    left = merge_sort(left)\n",
    "    right = merge_sort(right)\n",
    "\n",
    "    return merge(left, right)\n",
    "\n",
    "def merge(left, right):\n",
    "    result = []\n",
    "    i = j = 0\n",
    "\n",
    "    while i < len(left) and j < len(right):\n",
    "        if left[i] < right[j]:\n",
    "            result.append(left[i])\n",
    "            i += 1\n",
    "        else:\n",
    "            result.append(right[j])\n",
    "            j += 1\n",
    "\n",
    "    result.extend(left[i:])\n",
    "    result.extend(right[j:])\n",
    "    return result\n",
    "\n",
    "\n",
    "merge_sorted = merge_sort(veri.copy()) \n",
    "print(\"Merge Sort:\", merge_sorted)"
   ]
  },
  {
   "cell_type": "markdown",
   "id": "260b5e8e-9f51-4e1f-bd4a-7b55cf4ee020",
   "metadata": {},
   "source": [
    "Heap Sort (Hızlı Seçim Sıralaması )"
   ]
  },
  {
   "cell_type": "code",
   "execution_count": 36,
   "id": "8f3ced2e-b5b3-41fa-a074-23c952866d97",
   "metadata": {},
   "outputs": [
    {
     "name": "stdout",
     "output_type": "stream",
     "text": [
      "Heap Sort: [3, 4, 5, 7, 7, 11, 14, 25, 26, 30, 33, 38, 61, 62, 71, 71, 93, 95, 98, 100]\n"
     ]
    }
   ],
   "source": [
    "def heapify(arr, n, i):\n",
    "    largest = i\n",
    "    left = 2 * i + 1\n",
    "    right = 2 * i + 2\n",
    "\n",
    "    if left < n and arr[left] > arr[largest]:\n",
    "        largest = left\n",
    "\n",
    "    if right < n and arr[right] > arr[largest]:\n",
    "        largest = right\n",
    "\n",
    "    if largest != i:\n",
    "        arr[i], arr[largest] = arr[largest], arr[i]\n",
    "        heapify(arr, n, largest)\n",
    "\n",
    "def heap_sort(arr):\n",
    "    n = len(arr)\n",
    "\n",
    "    for i in range(n // 2 - 1, -1, -1):\n",
    "        heapify(arr, n, i)\n",
    "\n",
    "    for i in range(n - 1, 0, -1):\n",
    "        arr[i], arr[0] = arr[0], arr[i]\n",
    "        heapify(arr, i, 0)\n",
    "\n",
    "heap_sorted = veri.copy()\n",
    "heap_sort(heap_sorted)   \n",
    "print(\"Heap Sort:\", heap_sorted)         "
   ]
  },
  {
   "cell_type": "markdown",
   "id": "f3765056-7288-4873-97d1-e7d1c1ef79e4",
   "metadata": {},
   "source": [
    "Counting Sort ( Sayma Sıralaması )"
   ]
  },
  {
   "cell_type": "code",
   "execution_count": 37,
   "id": "90466017-5c0e-4fea-8894-f21b8765d2d1",
   "metadata": {},
   "outputs": [
    {
     "name": "stdout",
     "output_type": "stream",
     "text": [
      "Counting Sort: [3, 4, 5, 7, 7, 11, 14, 25, 26, 30, 33, 38, 61, 62, 71, 71, 93, 95, 98, 100]\n"
     ]
    }
   ],
   "source": [
    "def counting_sort(arr):\n",
    "    max_val = max(arr)\n",
    "    min_val = min(arr)\n",
    "    range_of_elements = max_val - min_val + 1\n",
    "    count_arr = [0] * range_of_elements\n",
    "    output_arr = [0] * len(arr)\n",
    "\n",
    "    for i in range(len(arr)):\n",
    "        count_arr[arr[i] - min_val] += 1\n",
    "\n",
    "    for i in range(1, len(count_arr)):\n",
    "        count_arr[i] += count_arr[i - 1]\n",
    "\n",
    "    for i in range(len(arr) - 1, -1, -1):\n",
    "        output_arr[count_arr[arr[i] - min_val] - 1] = arr[i]\n",
    "        count_arr[arr[i] - min_val] -= 1\n",
    "\n",
    "    for i in range(len(arr)):\n",
    "        arr[i] = output_arr[i]\n",
    "        \n",
    "counting_sorted = veri.copy()\n",
    "counting_sort(counting_sorted)   \n",
    "print(\"Counting Sort:\", counting_sorted) "
   ]
  },
  {
   "cell_type": "markdown",
   "id": "e18b7d46-80ea-407a-8136-6e58782f8513",
   "metadata": {},
   "source": [
    "Radix Sort ( Radyal Sıralama )"
   ]
  },
  {
   "cell_type": "code",
   "execution_count": 38,
   "id": "80d63d2a-6f28-4bc4-a0e7-ae8a0a120382",
   "metadata": {},
   "outputs": [
    {
     "name": "stdout",
     "output_type": "stream",
     "text": [
      "Radix Sort: [3, 4, 5, 7, 7, 11, 14, 25, 26, 30, 33, 38, 61, 62, 71, 71, 93, 95, 98, 100]\n"
     ]
    }
   ],
   "source": [
    "def radix_sort(arr):\n",
    "    max_num = max(arr)\n",
    "    exp = 1\n",
    "    while max_num // exp > 0:\n",
    "        counting_sort_by_digit(arr, exp)\n",
    "        exp *= 10\n",
    "\n",
    "def counting_sort_by_digit(arr, exp):\n",
    "    n = len(arr)\n",
    "    output = [0] * n\n",
    "    count = [0] * 10\n",
    "\n",
    "    for i in range(n):\n",
    "        index = arr[i] // exp\n",
    "        count[index % 10] += 1\n",
    "\n",
    "    for i in range(1, 10):\n",
    "        count[i] += count[i - 1]\n",
    "\n",
    "    i = n - 1\n",
    "    while i >= 0:\n",
    "        index = arr[i] // exp\n",
    "        output[count[index % 10] - 1] = arr[i]\n",
    "        count[index % 10] -= 1\n",
    "        i -= 1\n",
    "\n",
    "    for i in range(n):\n",
    "        arr[i] = output[i]\n",
    "     \n",
    "radix_sorted = veri.copy()\n",
    "radix_sort(radix_sorted)   \n",
    "print(\"Radix Sort:\", radix_sorted)         "
   ]
  },
  {
   "cell_type": "markdown",
   "id": "1eab4fea-364b-457d-81dd-828610ead54a",
   "metadata": {},
   "source": [
    "Topolojik Sıralama "
   ]
  },
  {
   "cell_type": "code",
   "execution_count": 43,
   "id": "a45857cd-6ac9-4258-a6a5-75e1af167757",
   "metadata": {},
   "outputs": [
    {
     "name": "stdout",
     "output_type": "stream",
     "text": [
      "Topological Sort: ['A', 'C', 'B', 'E', 'D', 'F']\n"
     ]
    }
   ],
   "source": [
    "def topological_sort(graph):\n",
    "    def dfs(node):\n",
    "        if node not in visited:\n",
    "            visited.add(node)\n",
    "            for neighbor in graph.get(node, []):\n",
    "                dfs(neighbor)\n",
    "            topological_order.insert(0, node)\n",
    "\n",
    "    visited = set()\n",
    "    topological_order = []\n",
    "\n",
    "    for node in graph:\n",
    "        dfs(node)\n",
    "\n",
    "    return topological_order\n",
    "graph = {\n",
    "    'A': ['B', 'C'],\n",
    "    'B': ['D', 'E'],\n",
    "    'C': [],\n",
    "    'D': ['F'],\n",
    "    'E': [],\n",
    "    'F': []\n",
    "}\n",
    "\n",
    "topo_order = topological_sort(graph)\n",
    "print(\"Topological Sort:\", topo_order)\n"
   ]
  }
 ],
 "metadata": {
  "kernelspec": {
   "display_name": "Python 3",
   "language": "python",
   "name": "python3"
  },
  "language_info": {
   "codemirror_mode": {
    "name": "ipython",
    "version": 3
   },
   "file_extension": ".py",
   "mimetype": "text/x-python",
   "name": "python",
   "nbconvert_exporter": "python",
   "pygments_lexer": "ipython3",
   "version": "3.8.8"
  }
 },
 "nbformat": 4,
 "nbformat_minor": 5
}
